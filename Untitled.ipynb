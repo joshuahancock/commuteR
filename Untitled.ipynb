{
 "cells": [
  {
   "cell_type": "code",
   "execution_count": 1,
   "metadata": {
    "collapsed": true
   },
   "outputs": [],
   "source": [
    "import googlemaps\n",
    "from datetime import datetime\n",
    "import time\n",
    "import pandas as pd\n",
    "import sys"
   ]
  },
  {
   "cell_type": "code",
   "execution_count": 13,
   "metadata": {
    "collapsed": true
   },
   "outputs": [],
   "source": [
    "gmaps = googlemaps.Client(key='')"
   ]
  },
  {
   "cell_type": "code",
   "execution_count": null,
   "metadata": {
    "collapsed": false
   },
   "outputs": [],
   "source": [
    "home = (33.765639, -84.353673)\n",
    "ncr = (33.962810, -84.115012)\n",
    "\n",
    "df = pd.DataFrame(columns=['day', 'time', 'there', 'back'])\n",
    "\n",
    "while True:\n",
    "    now = datetime.now()\n",
    "    if now.hour >= 6 and now.hour <= 19:\n",
    "        try:\n",
    "            there = gmaps.distance_matrix(home, ncr)\n",
    "            back = gmaps.distance_matrix(ncr, home)\n",
    "            thereSec = (there['rows'][0]['elements'][0]['duration']['value'])\n",
    "            backSec = (back['rows'][0]['elements'][0]['duration']['value'])\n",
    "            df.loc[len(df)] = [now.day, now.time(), thereSec, backSec]\n",
    "            with open('my_csv.csv', 'w') as f:\n",
    "                df.to_csv(f, header=True, index=False)\n",
    "                f.close()\n",
    "        except:\n",
    "            print (\"Unexpected error:\", sys.exc_info()[0], now.time())    \n",
    "\n",
    "    time.sleep(300)"
   ]
  }
 ],
 "metadata": {
  "kernelspec": {
   "display_name": "Python 3",
   "language": "python",
   "name": "python3"
  },
  "language_info": {
   "codemirror_mode": {
    "name": "ipython",
    "version": 3.0
   },
   "file_extension": ".py",
   "mimetype": "text/x-python",
   "name": "python",
   "nbconvert_exporter": "python",
   "pygments_lexer": "ipython3",
   "version": "3.5.1"
  }
 },
 "nbformat": 4,
 "nbformat_minor": 0
}
